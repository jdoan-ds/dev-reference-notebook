{
 "cells": [
  {
   "cell_type": "markdown",
   "id": "8a60bceb-d99d-4971-9820-6730a4e127a4",
   "metadata": {
    "jp-MarkdownHeadingCollapsed": true
   },
   "source": [
    "# 🟦 PowerShell Command Reference\n",
    "\n",
    "A comprehensive list of PowerShell commands for working with files, system tasks, networking, and scripting on Windows.\n"
   ]
  },
  {
   "cell_type": "markdown",
   "id": "da4accf7-7ff9-4cb2-92e0-d2011df6bcdd",
   "metadata": {
    "jp-MarkdownHeadingCollapsed": true
   },
   "source": [
    "## 📁 Navigation & Files\n"
   ]
  },
  {
   "cell_type": "code",
   "execution_count": null,
   "id": "12ee4333-4c36-4cd9-942b-1551613eb9f5",
   "metadata": {},
   "outputs": [],
   "source": [
    "Get-Location             # Show current directory (like pwd)\n",
    "Set-Location ..          # Go up one level (cd ..)\n",
    "Set-Location ~           # Go to home directory\n",
    "Get-ChildItem            # List files and folders (like ls)\n",
    "Get-ChildItem -Force     # Include hidden files\n",
    "Clear-Host               # Clear the terminal\n"
   ]
  },
  {
   "cell_type": "markdown",
   "id": "e86eb686-3c5a-4d9a-bd70-1cba9d8d8b2f",
   "metadata": {
    "jp-MarkdownHeadingCollapsed": true
   },
   "source": [
    "## 🧹 File & Folder Management\n"
   ]
  },
  {
   "cell_type": "code",
   "execution_count": null,
   "id": "a1615394-1f12-4e95-bf8f-8d8ae17a0286",
   "metadata": {},
   "outputs": [],
   "source": [
    "New-Item file.txt            # Create new file\n",
    "New-Item folder -ItemType Directory  # Create folder\n",
    "\n",
    "Remove-Item file.txt         # Delete file\n",
    "Remove-Item folder -Recurse  # Delete folder with contents\n",
    "\n",
    "Copy-Item file1.txt file2.txt         # Copy file\n",
    "Copy-Item file.txt .\\backup\\ -Recurse # Copy to folder\n",
    "\n",
    "Move-Item file.txt archive\\           # Move file\n",
    "Rename-Item old.txt new.txt           # Rename file\n",
    "\n",
    "Get-Content file.txt         # Read file contents\n",
    "Set-Content file.txt \"Hello\" # Overwrite file\n",
    "Add-Content file.txt \"World\" # Append to file\n"
   ]
  },
  {
   "cell_type": "markdown",
   "id": "c4d4c2e5-048d-4595-a035-8346530292a8",
   "metadata": {
    "jp-MarkdownHeadingCollapsed": true
   },
   "source": [
    "## 🔍 Search & Filtering"
   ]
  },
  {
   "cell_type": "code",
   "execution_count": null,
   "id": "4c5d8046-39ae-4a21-bfc5-230b333d8a28",
   "metadata": {},
   "outputs": [],
   "source": [
    "Select-String \"error\" .\\log.txt     # Search text in a file\n",
    "Select-String \"import\" *.py         # Search multiple files\n",
    "Get-ChildItem -Recurse | Select-String \"TODO\"   # Recursive search\n"
   ]
  },
  {
   "cell_type": "markdown",
   "id": "59dce771-a398-40a9-91fd-87cd5779dc31",
   "metadata": {
    "jp-MarkdownHeadingCollapsed": true
   },
   "source": [
    "## 🖥️ Processes & System Info\n"
   ]
  },
  {
   "cell_type": "code",
   "execution_count": null,
   "id": "877e1a9e-59f5-4385-a2d3-304e1373b7cd",
   "metadata": {},
   "outputs": [],
   "source": [
    "Get-Process                     # List all running processes\n",
    "Stop-Process -Name \"notepad\"   # Kill by name\n",
    "Stop-Process -Id 1234          # Kill by PID\n",
    "\n",
    "Get-Service                     # List all services\n",
    "Start-Service \"Spooler\"        # Start a service\n",
    "Stop-Service \"Spooler\"         # Stop a service\n",
    "\n",
    "Get-ComputerInfo               # System info (RAM, OS, BIOS)\n",
    "Get-Date                       # Current system date and time\n"
   ]
  },
  {
   "cell_type": "markdown",
   "id": "5ab55f12-9f6b-4102-a7d3-74e26d5bf803",
   "metadata": {
    "jp-MarkdownHeadingCollapsed": true
   },
   "source": [
    "## 🌐 Networking\n"
   ]
  },
  {
   "cell_type": "code",
   "execution_count": null,
   "id": "448246d7-2968-46a9-a6ca-497033b344d0",
   "metadata": {},
   "outputs": [],
   "source": [
    "Test-Connection google.com      # Ping (like ping)\n",
    "Resolve-DnsName github.com      # DNS lookup (like nslookup)\n",
    "Invoke-WebRequest https://site.com  # Download webpage\n",
    "ipconfig                        # Show IP configuration\n",
    "Get-NetIPAddress                # Network interfaces and IPs\n"
   ]
  },
  {
   "cell_type": "markdown",
   "id": "5819340f-6e59-420c-b7fa-171710f95b63",
   "metadata": {
    "jp-MarkdownHeadingCollapsed": true
   },
   "source": [
    "## ⚙️ Scripting & Shortcuts\n"
   ]
  },
  {
   "cell_type": "code",
   "execution_count": null,
   "id": "4f926505-44d5-4047-a596-0f5aea004049",
   "metadata": {},
   "outputs": [],
   "source": [
    "# Variables\n",
    "$name = \"Josh\"\n",
    "$age = 30\n",
    "\n",
    "# If/Else\n",
    "if ($age -gt 18) {\n",
    "    \"You're an adult\"\n",
    "} else {\n",
    "    \"You're a minor\"\n",
    "}\n",
    "\n",
    "# For Loop\n",
    "for ($i = 1; $i -le 5; $i++) {\n",
    "    Write-Host \"Count: $i\"\n",
    "}\n",
    "\n",
    "# Functions\n",
    "function Say-Hello {\n",
    "    param($name)\n",
    "    Write-Host \"Hello, $name!\"\n",
    "}\n",
    "Say-Hello \"Josh\"\n",
    "\n",
    "# Aliases\n",
    "Set-Alias ll Get-ChildItem\n"
   ]
  },
  {
   "cell_type": "markdown",
   "id": "9be95b3a-4eb6-4152-96e6-fd2fbcba6f37",
   "metadata": {
    "jp-MarkdownHeadingCollapsed": true
   },
   "source": [
    "# 📒 Jupyter Notebook Tips & Commands\n",
    "\n",
    "Helpful tips, magic commands, shortcuts, and hidden features for getting the most out of Jupyter Notebooks.\n",
    "\n"
   ]
  },
  {
   "cell_type": "markdown",
   "id": "5b0fef78-e1e1-441b-b5a9-19576af48bcf",
   "metadata": {
    "jp-MarkdownHeadingCollapsed": true
   },
   "source": [
    "\n",
    "## ✨ Magic Commands\n",
    "\n",
    "These start with `%` (line magics) or `%%` (cell magics). They provide extended functionality inside a notebook.\n"
   ]
  },
  {
   "cell_type": "code",
   "execution_count": null,
   "id": "f66ac9dd-569c-4674-a84c-aef2d11b34fb",
   "metadata": {},
   "outputs": [],
   "source": [
    "%pwd                   # Print working directory\n",
    "%ls                    # List files in current dir\n",
    "%time                  # Time a single statement\n",
    "%timeit                # Run code multiple times and average\n",
    "%who                   # List defined variables\n",
    "%matplotlib inline     # Render matplotlib charts in output cells\n",
    "%%bash                 # Run Bash commands inside a cell\n"
   ]
  },
  {
   "cell_type": "markdown",
   "id": "d7a82089-e342-4fbe-9a69-ae10f0c99720",
   "metadata": {
    "jp-MarkdownHeadingCollapsed": true
   },
   "source": [
    "## ⌨️ Keyboard Shortcuts (Command Mode)\n",
    "\n",
    "Use these in Command Mode (press Esc to enter it):\n"
   ]
  },
  {
   "cell_type": "code",
   "execution_count": null,
   "id": "5ab8830d-c714-4382-83ec-44b5678f8f33",
   "metadata": {},
   "outputs": [],
   "source": [
    "- `A` → Add cell **Above**\n",
    "- `B` → Add cell **Below**\n",
    "- `D`, `D` → Delete selected cell\n",
    "- `Z` → Undo delete\n",
    "- `Y` → Convert cell to **Code**\n",
    "- `M` → Convert cell to **Markdown**\n",
    "- `Shift + Enter` → Run cell & go to next\n",
    "- `Ctrl + S` → Save notebook\n",
    "- `Ctrl + Enter` → Run cell, stay in cell"
   ]
  },
  {
   "cell_type": "markdown",
   "id": "fe7cb2ef-8982-42f2-b240-4870520eba87",
   "metadata": {
    "jp-MarkdownHeadingCollapsed": true
   },
   "source": [
    "## ⚙️ Cell Types & Modes"
   ]
  },
  {
   "cell_type": "code",
   "execution_count": null,
   "id": "d85d3176-7ff1-4d76-94d9-4dadd6f963c9",
   "metadata": {},
   "outputs": [],
   "source": [
    "## ⚙️ Cell Types & Modes\n",
    "\n",
    "- **Code Cell** → Executes Python or other kernel code\n",
    "- **Markdown Cell** → Used for text, formatting, and documentation\n",
    "- **Raw Cell** → Outputs plain text without formatting\n",
    "\n",
    "Modes:\n",
    "- **Command Mode** (blue border): For notebook-wide actions\n",
    "- **Edit Mode** (green border): For editing the current cell\n"
   ]
  },
  {
   "cell_type": "markdown",
   "id": "ed001daf-6d22-4142-a2c3-fb1dd5038ea4",
   "metadata": {
    "jp-MarkdownHeadingCollapsed": true
   },
   "source": [
    "## 🧪 Cell Execution Tips"
   ]
  },
  {
   "cell_type": "code",
   "execution_count": null,
   "id": "deaf8ae1-84f5-42c8-aeb1-c3bd611a3bfd",
   "metadata": {},
   "outputs": [],
   "source": [
    "- `Shift + Enter` → Run cell & move to next\n",
    "- `Ctrl + Enter` → Run cell in place\n",
    "- `Alt + Enter` → Run cell & insert new one below\n",
    "- `Kernel > Restart` → Clears memory, useful when notebooks misbehave"
   ]
  },
  {
   "cell_type": "markdown",
   "id": "134d5f4d-28a4-4ae5-98c4-44e1a3e7743b",
   "metadata": {
    "jp-MarkdownHeadingCollapsed": true
   },
   "source": [
    "## 📂 File & Variable Utilities\n",
    "\n",
    "Useful tools to manage files and environment inside the notebook.\n"
   ]
  },
  {
   "cell_type": "code",
   "execution_count": null,
   "id": "7c2b9166-e85c-4eb7-a616-76b9cb67bd30",
   "metadata": {},
   "outputs": [],
   "source": [
    "%run script.py          # Run another Python script\n",
    "!ls                     # List files (shell command)\n",
    "!cat file.txt           # Show file contents\n",
    "!pip install numpy      # Install Python packages from within notebook\n",
    "%env                    # Show environment variables\n",
    "%reset -f               # Clear all variables (dangerous!)\n"
   ]
  },
  {
   "cell_type": "markdown",
   "id": "671ff25b-284c-4565-8e36-aa8f053b43b1",
   "metadata": {
    "jp-MarkdownHeadingCollapsed": true
   },
   "source": [
    "## 💡 Bonus Tips"
   ]
  },
  {
   "cell_type": "code",
   "execution_count": null,
   "id": "71d5a6c4-3055-42e4-9344-baeeaa4735ca",
   "metadata": {},
   "outputs": [],
   "source": [
    "- Export notebook: `File > Download As > HTML` or `.py`\n",
    "- Restart Kernel: `Kernel > Restart` to clear memory\n",
    "- Variable Inspector: Use `%who` or install extension\n",
    "- Use `%load` to load script contents into a cell"
   ]
  },
  {
   "cell_type": "markdown",
   "id": "1b0c86a2-c5dd-4fb5-8d18-4cd7186b22e8",
   "metadata": {
    "jp-MarkdownHeadingCollapsed": true
   },
   "source": [
    "# 🐍 Python Essentials\n",
    "\n",
    "Common Python commands and patterns for writing scripts, working in Jupyter, and automating tasks.\n",
    "\n"
   ]
  },
  {
   "cell_type": "markdown",
   "id": "a1f7ce35-804f-4a8d-9c44-9c6e4280e4c5",
   "metadata": {
    "jp-MarkdownHeadingCollapsed": true
   },
   "source": [
    "## 🧩 Variables & Data Types\n",
    "\n"
   ]
  },
  {
   "cell_type": "code",
   "execution_count": null,
   "id": "ecba47c8-71b9-467b-9135-effc067c50a8",
   "metadata": {},
   "outputs": [],
   "source": [
    "# Integer, float, string\n",
    "x = 10\n",
    "pi = 3.14\n",
    "name = \"Josh\"\n",
    "\n",
    "# Boolean\n",
    "is_active = True\n",
    "\n",
    "# None (null value)\n",
    "value = None\n",
    "\n",
    "# Type checking\n",
    "type(name)\n"
   ]
  },
  {
   "cell_type": "markdown",
   "id": "d3685820-4a2c-4e0d-9691-7d122a182487",
   "metadata": {
    "jp-MarkdownHeadingCollapsed": true
   },
   "source": [
    "## 📦 Collections\n"
   ]
  },
  {
   "cell_type": "code",
   "execution_count": null,
   "id": "55ac3e2d-8ae0-4343-8ea6-2dae001bcff6",
   "metadata": {},
   "outputs": [],
   "source": [
    "# List\n",
    "fruits = [\"apple\", \"banana\", \"cherry\"]\n",
    "fruits.append(\"orange\")\n",
    "print(fruits[1])\n",
    "\n",
    "# Tuple (immutable list)\n",
    "dimensions = (1920, 1080)\n",
    "\n",
    "# Dictionary\n",
    "person = {\"name\": \"Alice\", \"age\": 30}\n",
    "print(person[\"name\"])\n",
    "\n",
    "# Set (unique values)\n",
    "colors = {\"red\", \"green\", \"blue\"}\n",
    "colors.add(\"yellow\")\n"
   ]
  },
  {
   "cell_type": "markdown",
   "id": "3b17d73a-f92e-493c-82b8-d59958cf9718",
   "metadata": {
    "jp-MarkdownHeadingCollapsed": true
   },
   "source": [
    "## 🔁 Control Flow (Conditions and Loops)\n"
   ]
  },
  {
   "cell_type": "code",
   "execution_count": null,
   "id": "359a6543-965c-4f0a-99c6-9772ebc1e60f",
   "metadata": {},
   "outputs": [],
   "source": [
    "# If / elif / else\n",
    "age = 20\n",
    "if age >= 18:\n",
    "    print(\"Adult\")\n",
    "elif age > 12:\n",
    "    print(\"Teenager\")\n",
    "else:\n",
    "    print(\"Child\")\n",
    "\n",
    "# For loop\n",
    "for i in range(5):\n",
    "    print(i)\n",
    "\n",
    "# While loop\n",
    "count = 0\n",
    "while count < 3:\n",
    "    print(count)\n",
    "    count += 1\n"
   ]
  },
  {
   "cell_type": "markdown",
   "id": "1ecda48f-6853-472d-ac67-e2a4b8a9c3b2",
   "metadata": {
    "jp-MarkdownHeadingCollapsed": true
   },
   "source": [
    "## 🔧 Functions\n"
   ]
  },
  {
   "cell_type": "code",
   "execution_count": null,
   "id": "c85e527b-46c0-4851-b048-873c3abe5a62",
   "metadata": {},
   "outputs": [],
   "source": [
    "# Basic function\n",
    "def greet(name):\n",
    "    return f\"Hello, {name}!\"\n",
    "\n",
    "print(greet(\"Josh\"))\n",
    "\n",
    "# Function with default argument\n",
    "def power(base, exponent=2):\n",
    "    return base ** exponent\n"
   ]
  },
  {
   "cell_type": "markdown",
   "id": "6d75c172-261b-429c-8414-ea9c4648abb4",
   "metadata": {
    "jp-MarkdownHeadingCollapsed": true
   },
   "source": [
    "## 🧪 List & Dict Comprehensions\n"
   ]
  },
  {
   "cell_type": "code",
   "execution_count": null,
   "id": "ab209a8d-c880-4337-a548-0cd48cba4d9d",
   "metadata": {},
   "outputs": [],
   "source": [
    "# List comprehension\n",
    "squares = [x**2 for x in range(10)]\n",
    "\n",
    "# Dictionary comprehension\n",
    "word_lengths = {word: len(word) for word in [\"apple\", \"banana\", \"cherry\"]}\n"
   ]
  },
  {
   "cell_type": "markdown",
   "id": "e85dafae-8895-4aa3-8a8e-c9ccd665c903",
   "metadata": {
    "jp-MarkdownHeadingCollapsed": true
   },
   "source": [
    "## 🛠️ Importing Modules\n"
   ]
  },
  {
   "cell_type": "code",
   "execution_count": null,
   "id": "50d3a376-043c-4fb5-88e8-096ffca36550",
   "metadata": {},
   "outputs": [],
   "source": [
    "import math\n",
    "from datetime import datetime\n",
    "import random as rnd\n",
    "\n",
    "print(math.sqrt(16))\n",
    "print(datetime.now())\n",
    "print(rnd.randint(1, 10))\n"
   ]
  },
  {
   "cell_type": "markdown",
   "id": "8e0ec70f-bad2-45fc-bbf2-90e7555cc859",
   "metadata": {
    "jp-MarkdownHeadingCollapsed": true
   },
   "source": [
    "## 📂 File I/O\n"
   ]
  },
  {
   "cell_type": "code",
   "execution_count": null,
   "id": "a71d499c-5d78-4b15-84f2-4c81b5ee1e3a",
   "metadata": {},
   "outputs": [],
   "source": [
    "# Writing to a file\n",
    "with open(\"output.txt\", \"w\") as f:\n",
    "    f.write(\"Hello, file!\")\n",
    "\n",
    "# Reading a file\n",
    "with open(\"output.txt\", \"r\") as f:\n",
    "    content = f.read()\n",
    "    print(content)\n"
   ]
  },
  {
   "cell_type": "markdown",
   "id": "7ec2ce18-f167-4410-8941-0d36171791b2",
   "metadata": {
    "jp-MarkdownHeadingCollapsed": true
   },
   "source": [
    "## 🧯 Error Handling\n"
   ]
  },
  {
   "cell_type": "code",
   "execution_count": null,
   "id": "b498dd4c-18c1-46aa-b982-b6054730dcea",
   "metadata": {},
   "outputs": [],
   "source": [
    "try:\n",
    "    result = 10 / 0\n",
    "except ZeroDivisionError:\n",
    "    print(\"You can't divide by zero!\")\n",
    "finally:\n",
    "    print(\"Done.\")\n"
   ]
  },
  {
   "cell_type": "markdown",
   "id": "42abaea3-367c-4ba6-9809-b5479c55f95c",
   "metadata": {
    "jp-MarkdownHeadingCollapsed": true
   },
   "source": [
    "## 🎒 Classes & Objects (OOP Basics)\n"
   ]
  },
  {
   "cell_type": "code",
   "execution_count": null,
   "id": "9762bad5-3ee1-4b3d-bc52-93798cbbcd4f",
   "metadata": {},
   "outputs": [],
   "source": [
    "class Dog:\n",
    "    def __init__(self, name):\n",
    "        self.name = name\n",
    "\n",
    "    def speak(self):\n",
    "        return f\"{self.name} says woof!\"\n",
    "\n",
    "fido = Dog(\"Fido\")\n",
    "print(fido.speak())\n"
   ]
  },
  {
   "cell_type": "markdown",
   "id": "9c713caa-6c53-4d2c-9614-3ad299ae0c59",
   "metadata": {
    "jp-MarkdownHeadingCollapsed": true
   },
   "source": [
    "# 🟢 Conda / Anaconda Commands\n",
    "\n",
    "Manage Python environments, install packages, update tools, and troubleshoot using Conda (Anaconda’s package manager).\n",
    "\n"
   ]
  },
  {
   "cell_type": "markdown",
   "id": "84ac455b-1149-4821-a1ad-c01361dcae37",
   "metadata": {
    "jp-MarkdownHeadingCollapsed": true
   },
   "source": [
    "## ⚙️ Environment Management"
   ]
  },
  {
   "cell_type": "code",
   "execution_count": null,
   "id": "cefb2548-4128-4ccc-b9c2-d5a2bbb90d2f",
   "metadata": {},
   "outputs": [],
   "source": [
    "# Create new environment with Python 3.11\n",
    "conda create -n myenv python=3.11\n",
    "\n",
    "# Activate environment\n",
    "conda activate myenv\n",
    "\n",
    "# Deactivate environment\n",
    "conda deactivate\n",
    "\n",
    "# List all environments\n",
    "conda env list\n",
    "\n",
    "# Remove environment\n",
    "conda remove -n myenv --all\n",
    "\n",
    "# Export environment to YAML (for backup or sharing)\n",
    "conda env export > environment.yml\n",
    "\n",
    "# Create env from YAML\n",
    "conda env create -f environment.yml\n"
   ]
  },
  {
   "cell_type": "markdown",
   "id": "185e6ca0-2277-4c36-885b-0ca99d803e35",
   "metadata": {
    "jp-MarkdownHeadingCollapsed": true
   },
   "source": [
    "## 📦 Package Management"
   ]
  },
  {
   "cell_type": "code",
   "execution_count": null,
   "id": "5dad3c8f-1e67-4c29-9812-4926b9566f3c",
   "metadata": {},
   "outputs": [],
   "source": [
    "# Install a package (current environment)\n",
    "conda install numpy\n",
    "\n",
    "# Install specific version\n",
    "conda install pandas=1.5\n",
    "\n",
    "# Install from conda-forge (community channel)\n",
    "conda install -c conda-forge matplotlib\n",
    "\n",
    "# List all installed packages\n",
    "conda list\n",
    "\n",
    "# Remove a package\n",
    "conda remove scikit-learn\n"
   ]
  },
  {
   "cell_type": "markdown",
   "id": "622314f7-7eb9-4d4a-bb3e-7d93ceddac8e",
   "metadata": {
    "jp-MarkdownHeadingCollapsed": true
   },
   "source": [
    "## 🔄 Updating Conda & Anaconda\n"
   ]
  },
  {
   "cell_type": "code",
   "execution_count": null,
   "id": "316235f7-ad21-4115-85b4-fe1e786b1194",
   "metadata": {},
   "outputs": [],
   "source": [
    "# Update conda itself\n",
    "conda update conda\n",
    "\n",
    "# Update Anaconda distribution (if installed)\n",
    "conda update anaconda\n",
    "\n",
    "# Update a specific package\n",
    "conda update seaborn\n",
    "\n",
    "# Update all packages in current env (can take a while)\n",
    "conda update --all\n"
   ]
  },
  {
   "cell_type": "markdown",
   "id": "35c35456-77dd-432f-ab85-2298f70b5355",
   "metadata": {
    "jp-MarkdownHeadingCollapsed": true
   },
   "source": [
    "## 💡 Jupyter + Conda Tips\n"
   ]
  },
  {
   "cell_type": "code",
   "execution_count": null,
   "id": "75514c8a-dd5c-4027-9be8-04e3a1f05760",
   "metadata": {},
   "outputs": [],
   "source": [
    "# Add current conda environment to Jupyter as a kernel\n",
    "conda install ipykernel\n",
    "python -m ipykernel install --user --name=myenv --display-name \"Python (myenv)\"\n",
    "\n",
    "# Check kernel list\n",
    "jupyter kernelspec list\n",
    "\n",
    "# Remove unused Jupyter kernel (optional cleanup)\n",
    "jupyter kernelspec uninstall <kernel-name>\n"
   ]
  },
  {
   "cell_type": "markdown",
   "id": "c1b51079-1959-4e5b-a3bc-ce10dda614ef",
   "metadata": {
    "jp-MarkdownHeadingCollapsed": true
   },
   "source": [
    "## 🧪 Bonus: Shortcuts & Troubleshooting\n"
   ]
  },
  {
   "cell_type": "code",
   "execution_count": null,
   "id": "8ceb4a27-6e12-4f3e-ba30-b0f9e80775d5",
   "metadata": {},
   "outputs": [],
   "source": [
    "# See config paths\n",
    "conda config --show\n",
    "\n",
    "# Set default channel (e.g., conda-forge)\n",
    "conda config --add channels conda-forge\n",
    "\n",
    "# See available versions of a package\n",
    "conda search numpy\n",
    "\n",
    "# Fix environment if broken (advanced)\n",
    "conda install --force-reinstall python\n"
   ]
  },
  {
   "cell_type": "markdown",
   "id": "44b84923-f28f-4093-a91f-f917e3cdec0c",
   "metadata": {
    "jp-MarkdownHeadingCollapsed": true
   },
   "source": [
    "# 🟨 macOS / Bash Command Reference\n",
    "\n",
    "Essential Bash commands for navigating and managing files in macOS Terminal or Linux systems.\n",
    "\n"
   ]
  },
  {
   "cell_type": "markdown",
   "id": "4e91b81f-68ae-4c0d-84bc-ac3088521dde",
   "metadata": {
    "jp-MarkdownHeadingCollapsed": true
   },
   "source": [
    "## 📁 Navigation & Filesystem\n",
    "\n"
   ]
  },
  {
   "cell_type": "code",
   "execution_count": null,
   "id": "cb2159a0-b5e6-4205-90c8-69a3bfcd0bff",
   "metadata": {},
   "outputs": [],
   "source": [
    "pwd                 # Print current directory\n",
    "ls                  # List files and folders\n",
    "ls -la              # Long list including hidden files\n",
    "cd folder/          # Change directory\n",
    "cd ..               # Go up one level\n",
    "cd ~                # Go to home directory\n",
    "mkdir new_folder    # Create new directory\n",
    "rmdir folder        # Remove empty directory\n"
   ]
  },
  {
   "cell_type": "markdown",
   "id": "a87a4277-df0e-40ab-a490-b84f9db3911b",
   "metadata": {
    "jp-MarkdownHeadingCollapsed": true
   },
   "source": [
    "## 🧹 File Management\n"
   ]
  },
  {
   "cell_type": "code",
   "execution_count": null,
   "id": "30f8b56a-5e01-4636-88ce-7d4aba31586d",
   "metadata": {},
   "outputs": [],
   "source": [
    "touch file.txt                # Create an empty file\n",
    "rm file.txt                   # Delete a file\n",
    "rm -r folder/                 # Delete a folder and its contents\n",
    "mv file.txt new_folder/       # Move file\n",
    "cp file1.txt file2.txt        # Copy file\n",
    "cp -r folder1/ folder2/       # Copy folder and contents\n"
   ]
  },
  {
   "cell_type": "markdown",
   "id": "002abd90-b194-44bb-a726-157f39822868",
   "metadata": {
    "jp-MarkdownHeadingCollapsed": true
   },
   "source": [
    "## 🔍 Search & Filtering\n"
   ]
  },
  {
   "cell_type": "code",
   "execution_count": null,
   "id": "def6e704-d191-4903-9da7-559bc010b134",
   "metadata": {},
   "outputs": [],
   "source": [
    "grep \"text\" file.txt              # Search for text in file\n",
    "grep -r \"text\" folder/            # Recursive search\n",
    "find . -name \"*.py\"               # Find files by name/pattern\n",
    "wc -l file.txt                    # Count lines in file\n"
   ]
  },
  {
   "cell_type": "markdown",
   "id": "67d8e106-7a73-48ec-800a-8bfaef8ae7be",
   "metadata": {
    "jp-MarkdownHeadingCollapsed": true
   },
   "source": [
    "## 🖥️ System Info & Permissions\n"
   ]
  },
  {
   "cell_type": "code",
   "execution_count": null,
   "id": "32a9a061-045f-438c-a3ac-98d4de246807",
   "metadata": {},
   "outputs": [],
   "source": [
    "whoami                     # Current user\n",
    "uptime                     # System uptime\n",
    "top                        # Real-time process monitor\n",
    "df -h                      # Disk usage\n",
    "du -sh folder/             # Folder size summary\n",
    "chmod +x script.sh         # Make script executable\n"
   ]
  },
  {
   "cell_type": "markdown",
   "id": "553f3cd8-7723-4748-be1c-e916284a2fcc",
   "metadata": {
    "jp-MarkdownHeadingCollapsed": true
   },
   "source": [
    "## 🌐 Networking\n"
   ]
  },
  {
   "cell_type": "code",
   "execution_count": null,
   "id": "13504b00-af77-48c5-b014-05a3e121f036",
   "metadata": {},
   "outputs": [],
   "source": [
    "alias ll=\"ls -la\"                # Create a shortcut alias\n",
    "nano script.sh                   # Edit a shell script\n",
    "bash script.sh                   # Run shell script\n"
   ]
  }
 ],
 "metadata": {
  "kernelspec": {
   "display_name": "Python [conda env:base] *",
   "language": "python",
   "name": "conda-base-py"
  },
  "language_info": {
   "codemirror_mode": {
    "name": "ipython",
    "version": 3
   },
   "file_extension": ".py",
   "mimetype": "text/x-python",
   "name": "python",
   "nbconvert_exporter": "python",
   "pygments_lexer": "ipython3",
   "version": "3.12.7"
  }
 },
 "nbformat": 4,
 "nbformat_minor": 5
}
